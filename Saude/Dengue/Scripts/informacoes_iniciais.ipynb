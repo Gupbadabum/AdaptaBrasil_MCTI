{
 "cells": [
  {
   "cell_type": "markdown",
   "metadata": {},
   "source": []
  },
  {
   "cell_type": "code",
   "execution_count": 3,
   "metadata": {
    "vscode": {
     "languageId": "r"
    }
   },
   "outputs": [
    {
     "name": "stderr",
     "output_type": "stream",
     "text": [
      "Warning message in OGRSpatialRef(dsn, layer, morphFromESRI = morphFromESRI, dumpSRS = dumpSRS, :\n",
      "“Discarded datum Sistema_de_Referencia_Geocentrico_para_las_AmericaS_2000 in Proj4 definition: +proj=longlat +ellps=GRS80 +towgs84=0,0,0,0,0,0,0 +no_defs”\n"
     ]
    },
    {
     "name": "stdout",
     "output_type": "stream",
     "text": [
      "OGR data source with driver: ESRI Shapefile \n",
      "Source: \"/media/hellgate/16D7D0A761E2DB6A/MEGA/Shapefiles/Br_2019/br_municipios/BR_Municipios_2019.shp\", layer: \"BR_Municipios_2019\"\n",
      "with 5572 features\n",
      "It has 4 fields\n"
     ]
    },
    {
     "name": "stderr",
     "output_type": "stream",
     "text": [
      "Warning message in OGRSpatialRef(dsn, layer, morphFromESRI = morphFromESRI, dumpSRS = dumpSRS, :\n",
      "“Discarded datum Sistema_de_Referencia_Geocentrico_para_las_AmericaS_2000 in Proj4 definition: +proj=longlat +ellps=GRS80 +towgs84=0,0,0,0,0,0,0 +no_defs”\n"
     ]
    },
    {
     "name": "stdout",
     "output_type": "stream",
     "text": [
      "OGR data source with driver: ESRI Shapefile \n",
      "Source: \"/media/hellgate/16D7D0A761E2DB6A/MEGA/Shapefiles/Br_2019/br_unidades_da_federacao/BR_UF_2019.shp\", layer: \"BR_UF_2019\"\n",
      "with 27 features\n",
      "It has 4 fields\n"
     ]
    }
   ],
   "source": [
    "# Limpando a memoria\n",
    "\n",
    "rm(list=ls())\n",
    "\n",
    "# Carregando Biblioteca e funcoes\n",
    "\n",
    "library('rgdal')\n",
    "\n",
    "source('0-functions.R')\n",
    "\n",
    "\n",
    "# Definindo variaveis endereco\n",
    "pathin<-'../2-Input/'\n",
    "pathshp<-'/media/hellgate/16D7D0A761E2DB6A/MEGA/Shapefiles/'\n",
    "pathout<-'../4-Output/'\n",
    "\n",
    "# Lendo shapefile\n",
    "map0<-readOGR(paste0(pathshp,'Br_2019/br_municipios/BR_Municipios_2019.shp'))\n",
    "mapUF<-readOGR(paste0(pathshp,'Br_2019/br_unidades_da_federacao/BR_UF_2019.shp'))\n",
    "\n"
   ]
  },
  {
   "cell_type": "code",
   "execution_count": 5,
   "metadata": {
    "vscode": {
     "languageId": "r"
    }
   },
   "outputs": [
    {
     "data": {
      "text/html": [
       "<style>\n",
       ".list-inline {list-style: none; margin:0; padding: 0}\n",
       ".list-inline>li {display: inline-block}\n",
       ".list-inline>li:not(:last-child)::after {content: \"\\00b7\"; padding: 0 .5ex}\n",
       "</style>\n",
       "<ol class=list-inline><li>'Dengue_cp_mes_2014csv.csv'</li><li>'Dengue_cp_mes_2015csv.csv'</li><li>'Dengue_cp_mes_2016csv.csv'</li><li>'Dengue_cp_mes_2017csv.csv'</li><li>'Dengue_cp_mes_2018csv.csv'</li><li>'Dengue_cp_mes_2019csv.csv'</li><li>'Dengue_cp_mes_2020csv.csv'</li><li>'Dengue_cp_mes_2021csv.csv'</li><li>'Dengue_cp_mes_2022csv.csv'</li></ol>\n"
      ],
      "text/latex": [
       "\\begin{enumerate*}\n",
       "\\item 'Dengue\\_cp\\_mes\\_2014csv.csv'\n",
       "\\item 'Dengue\\_cp\\_mes\\_2015csv.csv'\n",
       "\\item 'Dengue\\_cp\\_mes\\_2016csv.csv'\n",
       "\\item 'Dengue\\_cp\\_mes\\_2017csv.csv'\n",
       "\\item 'Dengue\\_cp\\_mes\\_2018csv.csv'\n",
       "\\item 'Dengue\\_cp\\_mes\\_2019csv.csv'\n",
       "\\item 'Dengue\\_cp\\_mes\\_2020csv.csv'\n",
       "\\item 'Dengue\\_cp\\_mes\\_2021csv.csv'\n",
       "\\item 'Dengue\\_cp\\_mes\\_2022csv.csv'\n",
       "\\end{enumerate*}\n"
      ],
      "text/markdown": [
       "1. 'Dengue_cp_mes_2014csv.csv'\n",
       "2. 'Dengue_cp_mes_2015csv.csv'\n",
       "3. 'Dengue_cp_mes_2016csv.csv'\n",
       "4. 'Dengue_cp_mes_2017csv.csv'\n",
       "5. 'Dengue_cp_mes_2018csv.csv'\n",
       "6. 'Dengue_cp_mes_2019csv.csv'\n",
       "7. 'Dengue_cp_mes_2020csv.csv'\n",
       "8. 'Dengue_cp_mes_2021csv.csv'\n",
       "9. 'Dengue_cp_mes_2022csv.csv'\n",
       "\n",
       "\n"
      ],
      "text/plain": [
       "[1] \"Dengue_cp_mes_2014csv.csv\" \"Dengue_cp_mes_2015csv.csv\"\n",
       "[3] \"Dengue_cp_mes_2016csv.csv\" \"Dengue_cp_mes_2017csv.csv\"\n",
       "[5] \"Dengue_cp_mes_2018csv.csv\" \"Dengue_cp_mes_2019csv.csv\"\n",
       "[7] \"Dengue_cp_mes_2020csv.csv\" \"Dengue_cp_mes_2021csv.csv\"\n",
       "[9] \"Dengue_cp_mes_2022csv.csv\""
      ]
     },
     "metadata": {},
     "output_type": "display_data"
    }
   ],
   "source": [
    "\n",
    "map1<-map2<-map3<-map4<-map0\n",
    "\n",
    "map1@data[,5:16]<-map2@data[,5:16]<-map4@data[,5:16]<-NA\n",
    "map3@data[,5:7]<-NA\n",
    "\n",
    "# Listando arquivos de interesse\n",
    "filesd<-list.files(pathin,pattern='cp_mes')\n",
    "\n",
    "# Listando as Unidades Federativas\n",
    "SUF<-sort(unique(map0@data[,3]))\n",
    "\n",
    "# Criando vetor com a data\n",
    "Date0<-seq(as.Date('2014-01-01'),as.Date('2022-12-31'),by='1 month')\n",
    "\n",
    "filesd"
   ]
  },
  {
   "cell_type": "code",
   "execution_count": 6,
   "metadata": {
    "vscode": {
     "languageId": "r"
    }
   },
   "outputs": [
    {
     "name": "stdout",
     "output_type": "stream",
     "text": [
      "[1] \"AC\"\n",
      "[1] \"AL\"\n",
      "[1] \"AM\"\n",
      "[1] \"AP\"\n",
      "[1] \"BA\"\n",
      "[1] \"CE\"\n",
      "[1] \"DF\"\n",
      "[1] \"ES\"\n",
      "[1] \"GO\"\n",
      "[1] \"MA\"\n",
      "[1] \"MG\"\n",
      "[1] \"MS\"\n",
      "[1] \"MT\"\n",
      "[1] \"PA\"\n",
      "[1] \"PB\"\n",
      "[1] \"PE\"\n",
      "[1] \"PI\"\n",
      "[1] \"PR\"\n",
      "[1] \"RJ\"\n",
      "[1] \"RN\"\n",
      "[1] \"RO\"\n",
      "[1] \"RR\"\n",
      "[1] \"RS\"\n",
      "[1] \"SC\"\n",
      "[1] \"SE\"\n",
      "[1] \"SP\"\n",
      "[1] \"TO\"\n"
     ]
    }
   ],
   "source": [
    "for(uf in SUF){\n",
    "\t# Fazendo a selecao por Unidade Federativa no Shapefile\n",
    "\tmap_rec<-subset(map0,SIGLA_UF %in% uf)\n",
    "\t\n",
    "\t# Criando objeto com o nome das colunas\n",
    "\tnomes<-c('Ano','Mes',map_rec@data[,1])\n",
    "\t\n",
    "\t# Criando o objeto que reunira as informacoes de saida\n",
    "\toutput<-matrix(NA,nrow=12*length(filesd),ncol=length(nomes))\n",
    "\tcolnames(output)<-nomes\n",
    "\t\n",
    "\t# Inserindo informacoes de ano e mes no objeto de saida\n",
    "\toutput[,1:2]<-matrix(as.numeric(unlist(strsplit(as.character(Date0),'-'))),ncol=3,byrow=T)[,1:2]\n",
    "\n",
    "\tfor(i in 1:length(filesd)){\n",
    "\t\t# Efetuando a leitura dos arquivos de interesse\n",
    "\t\tinput<-read.csv(paste0(pathin,filesd[i]),header=T,sep=';',dec=',')[,c(1,3,19:30)]\n",
    "\t\t\n",
    "\t\t# Selecionando a unidade federativa no arquivo de interesse\n",
    "\t\tpos_uf<-which(input[,2]==uf)\n",
    "\n",
    "\t\t# Atribuindo a informacao de interesse nas devidas celulas\n",
    "\t\tinput_tmp<-input[pos_uf,]\n",
    "\n",
    "\t\t# Identificando o ano de referencia do arquivo\n",
    "\t\tano<-substr(filesd[i],15,18)\n",
    "\t\t\n",
    "\t\t# Atribuindo as informacoes de interesse ao seu respectivo geocodigo e ano\t\t\n",
    "\t\tfor(j in 3:length(nomes)){\n",
    "\t\t\tpos_mun<-which(nomes[j]==input_tmp[,1])\n",
    "\t\t\tpos_ano<-which(output[,1]==ano)\n",
    "\t\t\toutput[pos_ano,j]<-as.numeric(input_tmp[pos_mun,-c(1:2)])\n",
    "\t\t}\t\n",
    "\t}\n",
    "\n",
    "\t# Calculando o padrao medio, por mes\n",
    "\toutput_c<-aggregate(output,by=list(output[,2]),FUN='mean',na.rm=T)[,-c(1:2)]\n",
    "\n",
    "\t# Calculando meses com maior incidencia\n",
    "\n",
    "\toutput_d<-output_f<-output_c\n",
    "\n",
    "\tfor(k in 2:NCOL(output_c)){\n",
    "\t\toutput_d[,k]<-ifelse(output_c[,k]>=mean(output_c[,k]) & any(output_c[,k]!=0),output_c[,1],0)\n",
    "\t\toutput_f[,k]<-Id_cycle(output_d[,k],12,2,k)}\n",
    "\n",
    "\toutput2<-output\n",
    "\t# Frequencia\n",
    "\tfor(m in 3:NCOL(output)){\n",
    "\t\toutput2[,m]<-as.numeric(output[,m]>=mean(output[,m],na.rm=T) & mean(output[,m],na.rm=T)!=0)\n",
    "\t}\n",
    "\n",
    "\toutput_cf<-aggregate(output2,by=list(output2[,2]),FUN='sum',na.rm=T)[,-c(2:3)]\n",
    "\n",
    "\tpos0<-which(map1@data[,3]==uf)\n",
    "\n",
    "\t# Gerando espacializacao\n",
    "\tfor(l in 1:length(pos0)){\n",
    "\t\tmap1@data[pos0[l],-c(1:4)]<-output_f[,(l+1)]\n",
    "\t\tmap4@data[pos0[l],-c(1:4)]<-output_cf[,(l+1)]\n",
    "\t\tpos1<-which(output_f[,(l+1)]!=0)\n",
    "\t\t{if(length(pos1)!=0)\n",
    "\t\t\t{map2@data[pos0[l],c(pos1+4)]<-output_c[pos1,(l+1)]\n",
    "\t\t\tNUM<-sum(map2@data[pos0[l],c(pos1+4)],na.rm=T)\n",
    "\t\t\tmap3@data[pos0[l],5]<-NUM}\n",
    "\t\t}\n",
    "\t}\n",
    "\n",
    "\t\n",
    "\t# Escrevendo as informacoes concatenadas\n",
    "\twrite.table(output,file=paste0(pathout,'1-Mensal/Taxa_Inc_Dengue_2014_2022_UF_',uf,'.csv'),quote=F,sep=';',dec='.',col.names=T,row.names=F)\n",
    "\t\n",
    "\t# Escrevendo as informacoes medias\n",
    "\twrite.table(output_c,file=paste0(pathout,'2-Clima/Media_Mensal_Taxa_Inc_Dengue_2014_2022_UF_',uf,'.csv'),quote=F,sep=';',dec='.',col.names=T,row.names=F)\n",
    "\n",
    "\t# Escrevendo os meses com ocorrencia acima da media\n",
    "\twrite.table(output_f,file=paste0(pathout,'2-Clima/Meses_Maximos_UF_',uf,'.csv'),quote=F,sep=';',dec='.',col.names=T,row.names=F)\n",
    "\n",
    "\tprint(uf)\n",
    "}\n"
   ]
  }
 ],
 "metadata": {
  "kernelspec": {
   "display_name": "R",
   "language": "R",
   "name": "ir"
  },
  "language_info": {
   "codemirror_mode": "r",
   "file_extension": ".r",
   "mimetype": "text/x-r-source",
   "name": "R",
   "pygments_lexer": "r",
   "version": "4.0.5"
  }
 },
 "nbformat": 4,
 "nbformat_minor": 2
}
